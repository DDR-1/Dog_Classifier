{
  "nbformat": 4,
  "nbformat_minor": 0,
  "metadata": {
    "kernelspec": {
      "display_name": "Python 3",
      "language": "python",
      "name": "python3"
    },
    "language_info": {
      "codemirror_mode": {
        "name": "ipython",
        "version": 3
      },
      "file_extension": ".py",
      "mimetype": "text/x-python",
      "name": "python",
      "nbconvert_exporter": "python",
      "pygments_lexer": "ipython3",
      "version": "3.8.5"
    },
    "colab": {
      "name": "Copy of Dogclassifier - first.ipynb",
      "provenance": [],
      "collapsed_sections": []
    },
    "accelerator": "GPU"
  },
  "cells": [
    {
      "cell_type": "markdown",
      "metadata": {
        "id": "ZBaBuF0ml9gr"
      },
      "source": [
        "#Importing Libraries and reading required files"
      ]
    },
    {
      "cell_type": "code",
      "metadata": {
        "id": "h0rzmVhFlXYp"
      },
      "source": [
        "#importing necessary files and modules\n",
        "import pandas as pd\n",
        "from os import listdir\n",
        "from matplotlib import pyplot\n",
        "from matplotlib.image import imread\n",
        "from sklearn import preprocessing\n",
        "import os\n",
        "\n",
        "from keras.preprocessing.image import ImageDataGenerator\n",
        "\n",
        "from PIL import Image\n",
        "import requests"
      ],
      "execution_count": 2,
      "outputs": []
    },
    {
      "cell_type": "code",
      "metadata": {
        "id": "0dL_SawL-__3"
      },
      "source": [
        "#read labels data from csv\n",
        "labels=pd.read_csv(\"/content/drive/MyDrive/Dogclassifier/labels.csv\")"
      ],
      "execution_count": 3,
      "outputs": []
    },
    {
      "cell_type": "code",
      "metadata": {
        "colab": {
          "base_uri": "https://localhost:8080/",
          "height": 417
        },
        "id": "KIfa9d0h-__5",
        "outputId": "5be6422b-e95f-4818-f60c-375fc7d64b17"
      },
      "source": [
        "labels"
      ],
      "execution_count": 4,
      "outputs": [
        {
          "output_type": "execute_result",
          "data": {
            "text/html": [
              "<div>\n",
              "<style scoped>\n",
              "    .dataframe tbody tr th:only-of-type {\n",
              "        vertical-align: middle;\n",
              "    }\n",
              "\n",
              "    .dataframe tbody tr th {\n",
              "        vertical-align: top;\n",
              "    }\n",
              "\n",
              "    .dataframe thead th {\n",
              "        text-align: right;\n",
              "    }\n",
              "</style>\n",
              "<table border=\"1\" class=\"dataframe\">\n",
              "  <thead>\n",
              "    <tr style=\"text-align: right;\">\n",
              "      <th></th>\n",
              "      <th>id</th>\n",
              "      <th>breed</th>\n",
              "    </tr>\n",
              "  </thead>\n",
              "  <tbody>\n",
              "    <tr>\n",
              "      <th>0</th>\n",
              "      <td>000bec180eb18c7604dcecc8fe0dba07</td>\n",
              "      <td>boston_bull</td>\n",
              "    </tr>\n",
              "    <tr>\n",
              "      <th>1</th>\n",
              "      <td>001513dfcb2ffafc82cccf4d8bbaba97</td>\n",
              "      <td>dingo</td>\n",
              "    </tr>\n",
              "    <tr>\n",
              "      <th>2</th>\n",
              "      <td>001cdf01b096e06d78e9e5112d419397</td>\n",
              "      <td>pekinese</td>\n",
              "    </tr>\n",
              "    <tr>\n",
              "      <th>3</th>\n",
              "      <td>00214f311d5d2247d5dfe4fe24b2303d</td>\n",
              "      <td>bluetick</td>\n",
              "    </tr>\n",
              "    <tr>\n",
              "      <th>4</th>\n",
              "      <td>0021f9ceb3235effd7fcde7f7538ed62</td>\n",
              "      <td>golden_retriever</td>\n",
              "    </tr>\n",
              "    <tr>\n",
              "      <th>...</th>\n",
              "      <td>...</td>\n",
              "      <td>...</td>\n",
              "    </tr>\n",
              "    <tr>\n",
              "      <th>10217</th>\n",
              "      <td>ffd25009d635cfd16e793503ac5edef0</td>\n",
              "      <td>borzoi</td>\n",
              "    </tr>\n",
              "    <tr>\n",
              "      <th>10218</th>\n",
              "      <td>ffd3f636f7f379c51ba3648a9ff8254f</td>\n",
              "      <td>dandie_dinmont</td>\n",
              "    </tr>\n",
              "    <tr>\n",
              "      <th>10219</th>\n",
              "      <td>ffe2ca6c940cddfee68fa3cc6c63213f</td>\n",
              "      <td>airedale</td>\n",
              "    </tr>\n",
              "    <tr>\n",
              "      <th>10220</th>\n",
              "      <td>ffe5f6d8e2bff356e9482a80a6e29aac</td>\n",
              "      <td>miniature_pinscher</td>\n",
              "    </tr>\n",
              "    <tr>\n",
              "      <th>10221</th>\n",
              "      <td>fff43b07992508bc822f33d8ffd902ae</td>\n",
              "      <td>chesapeake_bay_retriever</td>\n",
              "    </tr>\n",
              "  </tbody>\n",
              "</table>\n",
              "<p>10222 rows × 2 columns</p>\n",
              "</div>"
            ],
            "text/plain": [
              "                                     id                     breed\n",
              "0      000bec180eb18c7604dcecc8fe0dba07               boston_bull\n",
              "1      001513dfcb2ffafc82cccf4d8bbaba97                     dingo\n",
              "2      001cdf01b096e06d78e9e5112d419397                  pekinese\n",
              "3      00214f311d5d2247d5dfe4fe24b2303d                  bluetick\n",
              "4      0021f9ceb3235effd7fcde7f7538ed62          golden_retriever\n",
              "...                                 ...                       ...\n",
              "10217  ffd25009d635cfd16e793503ac5edef0                    borzoi\n",
              "10218  ffd3f636f7f379c51ba3648a9ff8254f            dandie_dinmont\n",
              "10219  ffe2ca6c940cddfee68fa3cc6c63213f                  airedale\n",
              "10220  ffe5f6d8e2bff356e9482a80a6e29aac        miniature_pinscher\n",
              "10221  fff43b07992508bc822f33d8ffd902ae  chesapeake_bay_retriever\n",
              "\n",
              "[10222 rows x 2 columns]"
            ]
          },
          "metadata": {
            "tags": []
          },
          "execution_count": 4
        }
      ]
    },
    {
      "cell_type": "code",
      "metadata": {
        "colab": {
          "base_uri": "https://localhost:8080/",
          "height": 268
        },
        "id": "S5eq3Dj1-__6",
        "outputId": "4cae6f68-a8f7-4118-d496-48ff0e84c3c6"
      },
      "source": [
        "# plot some dog photos with labels as example of dataset\n",
        "\n",
        "folder = '/content/drive/MyDrive/Dogclassifier/train/'\n",
        "for i in range(0,9):\n",
        "    pyplot.subplot(330 + 1 + i)\n",
        "    filename = folder + str(labels[\"id\"][i]) + '.jpg'\n",
        "    image = imread(filename)\n",
        "    pyplot.imshow(image)\n",
        "    pyplot.xticks([])\n",
        "    pyplot.yticks([])\n",
        "    pyplot.title(labels[\"breed\"][i])\n",
        "pyplot.show()"
      ],
      "execution_count": 5,
      "outputs": [
        {
          "output_type": "display_data",
          "data": {
            "image/png": "[encoded data removed]",
            "text/plain": [
              "<Figure size 432x288 with 9 Axes>"
            ]
          },
          "metadata": {
            "tags": []
          }
        }
      ]
    },
    {
      "cell_type": "code",
      "metadata": {
        "id": "myL71xnZ-__7"
      },
      "source": [
        "#creating list of train labels\n",
        "dict = {labels[\"id\"][i]: labels[\"breed\"][i] for i in range(0, len(labels), 2)}\n",
        "\n",
        "folder = '/content/drive/MyDrive/Dogclassifier/train/'\n",
        "train_labels = list()\n",
        "for file in listdir(folder):\n",
        "    if(str(file[:-4]) in dict):\n",
        "        train_labels.append(str(dict[str(file[:-4])]))"
      ],
      "execution_count": 6,
      "outputs": []
    },
    {
      "cell_type": "markdown",
      "metadata": {
        "id": "tI5PIiaCtlcj"
      },
      "source": [
        "#Pre - processing data "
      ]
    },
    {
      "cell_type": "code",
      "metadata": {
        "id": "8R3FwfCr-__8"
      },
      "source": [
        "#function to return unique labels from list\n",
        "def unique(list1):\n",
        "    unique_list = []\n",
        "    for x in list1:\n",
        "        if x not in unique_list:\n",
        "            unique_list.append(x)\n",
        "    return (unique_list)"
      ],
      "execution_count": 7,
      "outputs": []
    },
    {
      "cell_type": "code",
      "metadata": {
        "id": "SI0wutp8-__8"
      },
      "source": [
        "le = preprocessing.LabelEncoder()\n",
        "le.fit(train_labels)\n",
        "label = le.transform(train_labels)\n",
        "u_labels = unique(train_labels)"
      ],
      "execution_count": 8,
      "outputs": []
    },
    {
      "cell_type": "markdown",
      "metadata": {
        "id": "XapWbA9Cuhmb"
      },
      "source": [
        "#Mapping"
      ]
    },
    {
      "cell_type": "code",
      "metadata": {
        "id": "1rG4WepN-__-"
      },
      "source": [
        "# map each image path to their class label in 'data'\n",
        "dataset_home = '/content/drive/MyDrive/Dogclassifier/content'\n",
        "data = {}\n",
        "\n",
        "for l in u_labels:\n",
        "    for img in os.listdir(dataset_home+'/train/'+l):\n",
        "       data.update({os.path.join(dataset_home,'train', l, img): l})"
      ],
      "execution_count": 9,
      "outputs": []
    },
    {
      "cell_type": "code",
      "metadata": {
        "id": "fEjuCS74-__-"
      },
      "source": [
        "Train_dir = '/content/drive/MyDrive/Dogclassifier/content/train'\n",
        "Batch_size = 64\n",
        "Num_classes=len(u_labels)\n",
        "Input_shape = (224, 224, 3)\n",
        "Class_mode = 'categorical'\n",
        "epochs=100"
      ],
      "execution_count": 17,
      "outputs": []
    },
    {
      "cell_type": "code",
      "metadata": {
        "id": "qRjTOs_F-__-",
        "colab": {
          "base_uri": "https://localhost:8080/"
        },
        "outputId": "04c43a6b-5288-4bb6-c88c-322ea2f92340"
      },
      "source": [
        "# Create a ImageDataGenerator Instance which can be used for data augmentation\n",
        "train_gen = ImageDataGenerator(\n",
        "    rescale=1./255,\n",
        "    rotation_range=60,\n",
        "    width_shift_range=0.2,\n",
        "    height_shift_range=0.2,\n",
        "    shear_range=0.2,\n",
        "    zoom_range=0.2,\n",
        "    horizontal_flip=True,\n",
        "    vertical_flip = True,\n",
        "    validation_split=0.2\n",
        ")\n",
        "\n",
        "#training data\n",
        "train_generator = train_gen.flow_from_directory(\n",
        "    directory=Train_dir,\n",
        "    target_size=(224, 224),\n",
        "    batch_size=Batch_size,\n",
        "    class_mode=Class_mode,\n",
        "    #subset='training',\n",
        "    color_mode='rgb',\n",
        "    shuffle=True,\n",
        "    seed=69\n",
        ")\n",
        "\n",
        "#subset used for validation \n",
        "# validation_generator = train_gen.flow_from_directory(\n",
        "#     directory=Train_dir, # same directory as training data\n",
        "#     target_size=(224, 224),\n",
        "#     batch_size=Batch_size,\n",
        "#     class_mode=Class_mode,\n",
        "#     subset='validation',\n",
        "#     color_mode='rgb',\n",
        "#     shuffle=True,\n",
        "#     seed=69)"
      ],
      "execution_count": 11,
      "outputs": [
        {
          "output_type": "stream",
          "text": [
            "Found 5111 images belonging to 120 classes.\n"
          ],
          "name": "stdout"
        }
      ]
    },
    {
      "cell_type": "code",
      "metadata": {
        "id": "YoVyqPhV-___",
        "colab": {
          "base_uri": "https://localhost:8080/"
        },
        "outputId": "5f513008-7b44-4798-c51a-febbec2f96f5"
      },
      "source": [
        "#List of Training labels\n",
        "print(train_generator.class_indices)"
      ],
      "execution_count": 12,
      "outputs": [
        {
          "output_type": "stream",
          "text": [
            "{'affenpinscher': 0, 'afghan_hound': 1, 'african_hunting_dog': 2, 'airedale': 3, 'american_staffordshire_terrier': 4, 'appenzeller': 5, 'australian_terrier': 6, 'basenji': 7, 'basset': 8, 'beagle': 9, 'bedlington_terrier': 10, 'bernese_mountain_dog': 11, 'black-and-tan_coonhound': 12, 'blenheim_spaniel': 13, 'bloodhound': 14, 'bluetick': 15, 'border_collie': 16, 'border_terrier': 17, 'borzoi': 18, 'boston_bull': 19, 'bouvier_des_flandres': 20, 'boxer': 21, 'brabancon_griffon': 22, 'briard': 23, 'brittany_spaniel': 24, 'bull_mastiff': 25, 'cairn': 26, 'cardigan': 27, 'chesapeake_bay_retriever': 28, 'chihuahua': 29, 'chow': 30, 'clumber': 31, 'cocker_spaniel': 32, 'collie': 33, 'curly-coated_retriever': 34, 'dandie_dinmont': 35, 'dhole': 36, 'dingo': 37, 'doberman': 38, 'english_foxhound': 39, 'english_setter': 40, 'english_springer': 41, 'entlebucher': 42, 'eskimo_dog': 43, 'flat-coated_retriever': 44, 'french_bulldog': 45, 'german_shepherd': 46, 'german_short-haired_pointer': 47, 'giant_schnauzer': 48, 'golden_retriever': 49, 'gordon_setter': 50, 'great_dane': 51, 'great_pyrenees': 52, 'greater_swiss_mountain_dog': 53, 'groenendael': 54, 'ibizan_hound': 55, 'irish_setter': 56, 'irish_terrier': 57, 'irish_water_spaniel': 58, 'irish_wolfhound': 59, 'italian_greyhound': 60, 'japanese_spaniel': 61, 'keeshond': 62, 'kelpie': 63, 'kerry_blue_terrier': 64, 'komondor': 65, 'kuvasz': 66, 'labrador_retriever': 67, 'lakeland_terrier': 68, 'leonberg': 69, 'lhasa': 70, 'malamute': 71, 'malinois': 72, 'maltese_dog': 73, 'mexican_hairless': 74, 'miniature_pinscher': 75, 'miniature_poodle': 76, 'miniature_schnauzer': 77, 'newfoundland': 78, 'norfolk_terrier': 79, 'norwegian_elkhound': 80, 'norwich_terrier': 81, 'old_english_sheepdog': 82, 'otterhound': 83, 'papillon': 84, 'pekinese': 85, 'pembroke': 86, 'pomeranian': 87, 'pug': 88, 'redbone': 89, 'rhodesian_ridgeback': 90, 'rottweiler': 91, 'saint_bernard': 92, 'saluki': 93, 'samoyed': 94, 'schipperke': 95, 'scotch_terrier': 96, 'scottish_deerhound': 97, 'sealyham_terrier': 98, 'shetland_sheepdog': 99, 'shih-tzu': 100, 'siberian_husky': 101, 'silky_terrier': 102, 'soft-coated_wheaten_terrier': 103, 'staffordshire_bullterrier': 104, 'standard_poodle': 105, 'standard_schnauzer': 106, 'sussex_spaniel': 107, 'tibetan_mastiff': 108, 'tibetan_terrier': 109, 'toy_poodle': 110, 'toy_terrier': 111, 'vizsla': 112, 'walker_hound': 113, 'weimaraner': 114, 'welsh_springer_spaniel': 115, 'west_highland_white_terrier': 116, 'whippet': 117, 'wire-haired_fox_terrier': 118, 'yorkshire_terrier': 119}\n"
          ],
          "name": "stdout"
        }
      ]
    },
    {
      "cell_type": "markdown",
      "metadata": {
        "id": "jpRIBmKwUOnJ"
      },
      "source": [
        "#CNN Model"
      ]
    },
    {
      "cell_type": "code",
      "metadata": {
        "id": "v6GT3c-M_33g"
      },
      "source": [
        "#import tensorflow, keras and other modules\n",
        "import tensorflow as tf\n",
        "from tensorflow import keras\n",
        "import numpy as np\n",
        "from keras.callbacks import ReduceLROnPlateau\n",
        "\n",
        "from keras.layers import GlobalAveragePooling2D, Dense, BatchNormalization, Dropout\n",
        "from keras.optimizers import Adam, SGD, RMSprop\n",
        "from keras.models import Model, Input\n",
        "from keras.applications import xception\n",
        "from tensorflow.keras.applications.xception import preprocess_input,decode_predictions"
      ],
      "execution_count": 13,
      "outputs": []
    },
    {
      "cell_type": "code",
      "metadata": {
        "id": "dtatHDQr_tNO"
      },
      "source": [
        "lrr= ReduceLROnPlateau(monitor='val_accuracy', factor=.01, patience=3, min_lr=1e-5)"
      ],
      "execution_count": 14,
      "outputs": []
    },
    {
      "cell_type": "code",
      "metadata": {
        "id": "WbCExHDicuoW",
        "colab": {
          "base_uri": "https://localhost:8080/"
        },
        "outputId": "7642566d-bc5d-4363-e35f-1aa46843626e"
      },
      "source": [
        "# Using pre-trained Xception model for transfer learning\n",
        "base_model = xception.Xception(weights='imagenet', include_top=False)\n",
        "\n",
        "# average pooling layer\n",
        "x = base_model.output\n",
        "x = BatchNormalization()(x)\n",
        "x = GlobalAveragePooling2D()(x)\n",
        "# fully-connected layer\n",
        "x = Dropout(0.5)(x)\n",
        "x = Dense(1024, activation='relu')(x)\n",
        "x = Dropout(0.5)(x)\n",
        "# prediction layer \n",
        "predictions = Dense(Num_classes, activation='softmax')(x)\n",
        "\n",
        "# model to be trained\n",
        "model = Model(inputs=base_model.input, outputs=predictions)\n",
        "\n",
        "# freeze Xception layers\n",
        "for layer in base_model.layers:\n",
        "    layer.trainable = False\n",
        "\n",
        "# compiling the model\n",
        "optimizer = Adam(learning_rate=0.001)\n",
        "model.compile(optimizer=optimizer,loss='categorical_crossentropy',metrics=[\"accuracy\"])\n"
      ],
      "execution_count": null,
      "outputs": [
        {
          "output_type": "stream",
          "text": [
            "Downloading data from https://storage.googleapis.com/tensorflow/keras-applications/xception/xception_weights_tf_dim_ordering_tf_kernels_notop.h5\n",
            "83689472/83683744 [==============================] - 1s 0us/step\n",
            "83697664/83683744 [==============================] - 1s 0us/step\n"
          ],
          "name": "stdout"
        }
      ]
    },
    {
      "cell_type": "code",
      "metadata": {
        "id": "mjOwqUtO4jmJ"
      },
      "source": [
        "model2 = keras.models.load_model('/content/drive/MyDrive/Dogclassifier/saved_model_2')"
      ],
      "execution_count": 15,
      "outputs": []
    },
    {
      "cell_type": "code",
      "metadata": {
        "id": "VfLSwjmMdU3H",
        "colab": {
          "base_uri": "https://localhost:8080/"
        },
        "outputId": "266b6435-25c3-4d0b-965b-af21fb64d5fe"
      },
      "source": [
        "#training model\n",
        "model2.fit_generator(train_generator,epochs = epochs, #validation_data = validation_generator, callbacks=[lrr], \n",
        "                    verbose = 1,shuffle = True)"
      ],
      "execution_count": 18,
      "outputs": [
        {
          "output_type": "stream",
          "text": [
            "/usr/local/lib/python3.7/dist-packages/tensorflow/python/keras/engine/training.py:1940: UserWarning: `Model.fit_generator` is deprecated and will be removed in a future version. Please use `Model.fit`, which supports generators.\n",
            "  warnings.warn('`Model.fit_generator` is deprecated and '\n"
          ],
          "name": "stderr"
        },
        {
          "output_type": "stream",
          "text": [
            "Epoch 1/100\n",
            "80/80 [==============================] - 1524s 19s/step - loss: 0.7273 - accuracy: 0.7922\n",
            "Epoch 2/100\n",
            "80/80 [==============================] - 76s 949ms/step - loss: 0.6930 - accuracy: 0.7971\n",
            "Epoch 3/100\n",
            "80/80 [==============================] - 76s 948ms/step - loss: 0.7596 - accuracy: 0.7861\n",
            "Epoch 4/100\n",
            "80/80 [==============================] - 76s 952ms/step - loss: 0.7447 - accuracy: 0.7875\n",
            "Epoch 5/100\n",
            "80/80 [==============================] - 76s 950ms/step - loss: 0.6986 - accuracy: 0.7950\n",
            "Epoch 6/100\n",
            "80/80 [==============================] - 77s 959ms/step - loss: 0.6871 - accuracy: 0.8002\n",
            "Epoch 7/100\n",
            "80/80 [==============================] - 77s 961ms/step - loss: 0.7069 - accuracy: 0.7963\n",
            "Epoch 8/100\n",
            "80/80 [==============================] - 78s 976ms/step - loss: 0.7244 - accuracy: 0.7905\n",
            "Epoch 9/100\n",
            "80/80 [==============================] - 79s 980ms/step - loss: 0.7094 - accuracy: 0.7914\n",
            "Epoch 10/100\n",
            "80/80 [==============================] - 80s 1s/step - loss: 0.7182 - accuracy: 0.7854\n",
            "Epoch 11/100\n",
            "80/80 [==============================] - 78s 968ms/step - loss: 0.7036 - accuracy: 0.7967\n",
            "Epoch 12/100\n",
            "80/80 [==============================] - 77s 963ms/step - loss: 0.6903 - accuracy: 0.8002\n",
            "Epoch 13/100\n",
            "80/80 [==============================] - 77s 960ms/step - loss: 0.7134 - accuracy: 0.7950\n",
            "Epoch 14/100\n",
            "80/80 [==============================] - 78s 970ms/step - loss: 0.7048 - accuracy: 0.7897\n",
            "Epoch 15/100\n",
            "80/80 [==============================] - 79s 982ms/step - loss: 0.7181 - accuracy: 0.7932\n",
            "Epoch 16/100\n",
            "80/80 [==============================] - 77s 959ms/step - loss: 0.7578 - accuracy: 0.7840\n",
            "Epoch 17/100\n",
            "80/80 [==============================] - 77s 964ms/step - loss: 0.6728 - accuracy: 0.8030\n",
            "Epoch 18/100\n",
            "80/80 [==============================] - 78s 973ms/step - loss: 0.6991 - accuracy: 0.7963\n",
            "Epoch 19/100\n",
            "80/80 [==============================] - 78s 970ms/step - loss: 0.7133 - accuracy: 0.7893\n",
            "Epoch 20/100\n",
            "80/80 [==============================] - 78s 969ms/step - loss: 0.6840 - accuracy: 0.7965\n",
            "Epoch 21/100\n",
            "80/80 [==============================] - 78s 972ms/step - loss: 0.6737 - accuracy: 0.7989\n",
            "Epoch 22/100\n",
            "80/80 [==============================] - 78s 972ms/step - loss: 0.7166 - accuracy: 0.7899\n",
            "Epoch 23/100\n",
            "80/80 [==============================] - 79s 985ms/step - loss: 0.6817 - accuracy: 0.7979\n",
            "Epoch 24/100\n",
            "80/80 [==============================] - 79s 987ms/step - loss: 0.6883 - accuracy: 0.7932\n",
            "Epoch 25/100\n",
            "80/80 [==============================] - 78s 971ms/step - loss: 0.6994 - accuracy: 0.7918\n",
            "Epoch 26/100\n",
            "80/80 [==============================] - 78s 968ms/step - loss: 0.6946 - accuracy: 0.7932\n",
            "Epoch 27/100\n",
            "80/80 [==============================] - 79s 984ms/step - loss: 0.7191 - accuracy: 0.7908\n",
            "Epoch 28/100\n",
            "80/80 [==============================] - 77s 962ms/step - loss: 0.6788 - accuracy: 0.8022\n",
            "Epoch 29/100\n",
            "80/80 [==============================] - 77s 955ms/step - loss: 0.7223 - accuracy: 0.7832\n",
            "Epoch 30/100\n",
            "80/80 [==============================] - 76s 954ms/step - loss: 0.7239 - accuracy: 0.7918\n",
            "Epoch 31/100\n",
            "80/80 [==============================] - 77s 960ms/step - loss: 0.7316 - accuracy: 0.7908\n",
            "Epoch 32/100\n",
            "80/80 [==============================] - 78s 967ms/step - loss: 0.6985 - accuracy: 0.7975\n",
            "Epoch 33/100\n",
            "80/80 [==============================] - 76s 949ms/step - loss: 0.7396 - accuracy: 0.7861\n",
            "Epoch 34/100\n",
            "80/80 [==============================] - 77s 963ms/step - loss: 0.7072 - accuracy: 0.7951\n",
            "Epoch 35/100\n",
            "80/80 [==============================] - 77s 962ms/step - loss: 0.6932 - accuracy: 0.7998\n",
            "Epoch 36/100\n",
            "80/80 [==============================] - 77s 958ms/step - loss: 0.7221 - accuracy: 0.7948\n",
            "Epoch 37/100\n",
            "80/80 [==============================] - 76s 955ms/step - loss: 0.6933 - accuracy: 0.7924\n",
            "Epoch 38/100\n",
            "80/80 [==============================] - 78s 967ms/step - loss: 0.6892 - accuracy: 0.8002\n",
            "Epoch 39/100\n",
            "80/80 [==============================] - 78s 971ms/step - loss: 0.6934 - accuracy: 0.7981\n",
            "Epoch 40/100\n",
            "80/80 [==============================] - 78s 969ms/step - loss: 0.6850 - accuracy: 0.7989\n",
            "Epoch 41/100\n",
            "80/80 [==============================] - 78s 972ms/step - loss: 0.7067 - accuracy: 0.7918\n",
            "Epoch 42/100\n",
            "80/80 [==============================] - 78s 967ms/step - loss: 0.6741 - accuracy: 0.7987\n",
            "Epoch 43/100\n",
            "80/80 [==============================] - 77s 959ms/step - loss: 0.6642 - accuracy: 0.8030\n",
            "Epoch 44/100\n",
            "80/80 [==============================] - 79s 983ms/step - loss: 0.6819 - accuracy: 0.7975\n",
            "Epoch 45/100\n",
            "80/80 [==============================] - 77s 960ms/step - loss: 0.7076 - accuracy: 0.7940\n",
            "Epoch 46/100\n",
            "80/80 [==============================] - 77s 964ms/step - loss: 0.7054 - accuracy: 0.7844\n",
            "Epoch 47/100\n",
            "80/80 [==============================] - 77s 957ms/step - loss: 0.6840 - accuracy: 0.7989\n",
            "Epoch 48/100\n",
            "80/80 [==============================] - 79s 986ms/step - loss: 0.7077 - accuracy: 0.7940\n",
            "Epoch 49/100\n",
            "80/80 [==============================] - 77s 959ms/step - loss: 0.6931 - accuracy: 0.8008\n",
            "Epoch 50/100\n",
            "80/80 [==============================] - 76s 955ms/step - loss: 0.6630 - accuracy: 0.8083\n",
            "Epoch 51/100\n",
            "80/80 [==============================] - 77s 958ms/step - loss: 0.7145 - accuracy: 0.7961\n",
            "Epoch 52/100\n",
            "80/80 [==============================] - 77s 966ms/step - loss: 0.7002 - accuracy: 0.7944\n",
            "Epoch 53/100\n",
            "80/80 [==============================] - 78s 971ms/step - loss: 0.6828 - accuracy: 0.8006\n",
            "Epoch 54/100\n",
            "80/80 [==============================] - 77s 963ms/step - loss: 0.6897 - accuracy: 0.7936\n",
            "Epoch 55/100\n",
            "80/80 [==============================] - 78s 967ms/step - loss: 0.6579 - accuracy: 0.8088\n",
            "Epoch 56/100\n",
            "80/80 [==============================] - 77s 966ms/step - loss: 0.7097 - accuracy: 0.7953\n",
            "Epoch 57/100\n",
            "80/80 [==============================] - 77s 962ms/step - loss: 0.7264 - accuracy: 0.7836\n",
            "Epoch 58/100\n",
            "80/80 [==============================] - 77s 966ms/step - loss: 0.6906 - accuracy: 0.7942\n",
            "Epoch 59/100\n",
            "80/80 [==============================] - 77s 958ms/step - loss: 0.7002 - accuracy: 0.7959\n",
            "Epoch 60/100\n",
            "80/80 [==============================] - 77s 956ms/step - loss: 0.6909 - accuracy: 0.8049\n",
            "Epoch 61/100\n",
            "80/80 [==============================] - 78s 969ms/step - loss: 0.7029 - accuracy: 0.7914\n",
            "Epoch 62/100\n",
            "80/80 [==============================] - 77s 964ms/step - loss: 0.6773 - accuracy: 0.8004\n",
            "Epoch 63/100\n",
            "80/80 [==============================] - 76s 954ms/step - loss: 0.6946 - accuracy: 0.7983\n",
            "Epoch 64/100\n",
            "80/80 [==============================] - 77s 955ms/step - loss: 0.6860 - accuracy: 0.7916\n",
            "Epoch 65/100\n",
            "80/80 [==============================] - 78s 978ms/step - loss: 0.7248 - accuracy: 0.7887\n",
            "Epoch 66/100\n",
            "80/80 [==============================] - 77s 962ms/step - loss: 0.7151 - accuracy: 0.7914\n",
            "Epoch 67/100\n",
            "80/80 [==============================] - 77s 955ms/step - loss: 0.7001 - accuracy: 0.7963\n",
            "Epoch 68/100\n",
            "80/80 [==============================] - 76s 949ms/step - loss: 0.6768 - accuracy: 0.8026\n",
            "Epoch 69/100\n",
            "80/80 [==============================] - 76s 950ms/step - loss: 0.6601 - accuracy: 0.8016\n",
            "Epoch 70/100\n",
            "80/80 [==============================] - 77s 966ms/step - loss: 0.7329 - accuracy: 0.7951\n",
            "Epoch 71/100\n",
            "80/80 [==============================] - 76s 945ms/step - loss: 0.7091 - accuracy: 0.7942\n",
            "Epoch 72/100\n",
            "80/80 [==============================] - 76s 949ms/step - loss: 0.7062 - accuracy: 0.7989\n",
            "Epoch 73/100\n",
            "80/80 [==============================] - 77s 957ms/step - loss: 0.6576 - accuracy: 0.8049\n",
            "Epoch 74/100\n",
            "80/80 [==============================] - 77s 958ms/step - loss: 0.6996 - accuracy: 0.7961\n",
            "Epoch 75/100\n",
            "80/80 [==============================] - 76s 951ms/step - loss: 0.6660 - accuracy: 0.7993\n",
            "Epoch 76/100\n",
            "80/80 [==============================] - 77s 961ms/step - loss: 0.7060 - accuracy: 0.7879\n",
            "Epoch 77/100\n",
            "80/80 [==============================] - 77s 955ms/step - loss: 0.6755 - accuracy: 0.8055\n",
            "Epoch 78/100\n",
            "80/80 [==============================] - 76s 951ms/step - loss: 0.6786 - accuracy: 0.8004\n",
            "Epoch 79/100\n",
            "80/80 [==============================] - 77s 956ms/step - loss: 0.6995 - accuracy: 0.7918\n",
            "Epoch 80/100\n",
            "80/80 [==============================] - 76s 952ms/step - loss: 0.7030 - accuracy: 0.7967\n",
            "Epoch 81/100\n",
            "80/80 [==============================] - 76s 943ms/step - loss: 0.6895 - accuracy: 0.7924\n",
            "Epoch 82/100\n",
            "80/80 [==============================] - 76s 949ms/step - loss: 0.6568 - accuracy: 0.8055\n",
            "Epoch 83/100\n",
            "80/80 [==============================] - 77s 957ms/step - loss: 0.6882 - accuracy: 0.8020\n",
            "Epoch 84/100\n",
            "80/80 [==============================] - 76s 950ms/step - loss: 0.7028 - accuracy: 0.7948\n",
            "Epoch 85/100\n",
            "80/80 [==============================] - 77s 967ms/step - loss: 0.7060 - accuracy: 0.7946\n",
            "Epoch 86/100\n",
            "80/80 [==============================] - 76s 945ms/step - loss: 0.6859 - accuracy: 0.7946\n",
            "Epoch 87/100\n",
            "80/80 [==============================] - 78s 973ms/step - loss: 0.7013 - accuracy: 0.7973\n",
            "Epoch 88/100\n",
            "80/80 [==============================] - 76s 943ms/step - loss: 0.6874 - accuracy: 0.8008\n",
            "Epoch 89/100\n",
            "80/80 [==============================] - 75s 941ms/step - loss: 0.6942 - accuracy: 0.8008\n",
            "Epoch 90/100\n",
            "80/80 [==============================] - 76s 942ms/step - loss: 0.6719 - accuracy: 0.8014\n",
            "Epoch 91/100\n",
            "80/80 [==============================] - 78s 972ms/step - loss: 0.6640 - accuracy: 0.8065\n",
            "Epoch 92/100\n",
            "80/80 [==============================] - 76s 944ms/step - loss: 0.7001 - accuracy: 0.7910\n",
            "Epoch 93/100\n",
            "80/80 [==============================] - 77s 960ms/step - loss: 0.7002 - accuracy: 0.7979\n",
            "Epoch 94/100\n",
            "80/80 [==============================] - 79s 983ms/step - loss: 0.6843 - accuracy: 0.8028\n",
            "Epoch 95/100\n",
            "80/80 [==============================] - 78s 972ms/step - loss: 0.7014 - accuracy: 0.7967\n",
            "Epoch 96/100\n",
            "80/80 [==============================] - 76s 952ms/step - loss: 0.7204 - accuracy: 0.7893\n",
            "Epoch 97/100\n",
            "80/80 [==============================] - 77s 960ms/step - loss: 0.6827 - accuracy: 0.7985\n",
            "Epoch 98/100\n",
            "80/80 [==============================] - 77s 959ms/step - loss: 0.6681 - accuracy: 0.7971\n",
            "Epoch 99/100\n",
            "80/80 [==============================] - 77s 959ms/step - loss: 0.7030 - accuracy: 0.7955\n",
            "Epoch 100/100\n",
            "80/80 [==============================] - 77s 959ms/step - loss: 0.6828 - accuracy: 0.8012\n"
          ],
          "name": "stdout"
        },
        {
          "output_type": "execute_result",
          "data": {
            "text/plain": [
              "<tensorflow.python.keras.callbacks.History at 0x7f1497f2d410>"
            ]
          },
          "metadata": {
            "tags": []
          },
          "execution_count": 18
        }
      ]
    },
    {
      "cell_type": "code",
      "metadata": {
        "id": "GrfQSXfL3x1v",
        "colab": {
          "base_uri": "https://localhost:8080/"
        },
        "outputId": "40a5f84a-f2c1-4c00-d990-a726c5c2071a"
      },
      "source": [
        "#saving model\n",
        "model2.save('/content/drive/MyDrive/Dogclassifier/saved_model_2')"
      ],
      "execution_count": 19,
      "outputs": [
        {
          "output_type": "stream",
          "text": [
            "/usr/local/lib/python3.7/dist-packages/tensorflow/python/keras/utils/generic_utils.py:497: CustomMaskWarning: Custom mask layers require a config and must override get_config. When loading, the custom mask layer must be passed to the custom_objects argument.\n",
            "  category=CustomMaskWarning)\n"
          ],
          "name": "stderr"
        },
        {
          "output_type": "stream",
          "text": [
            "INFO:tensorflow:Assets written to: /content/drive/MyDrive/Colab Notebooks/Dogclassifier/saved_model_2/assets\n"
          ],
          "name": "stdout"
        }
      ]
    },
    {
      "cell_type": "code",
      "metadata": {
        "id": "RRKIU9NjUwck",
        "colab": {
          "base_uri": "https://localhost:8080/"
        },
        "outputId": "04b139c6-0490-4f41-efb9-b4836e2835d9"
      },
      "source": [
        "#Setting up test dataset\n",
        "Test_dir = '/content/drive/MyDrive/Dogclassifier/test_images'\n",
        "test_datagen = ImageDataGenerator(rescale=1. / 255)\n",
        "test_generator = test_datagen.flow_from_directory(\n",
        "    directory=r\"/content/drive/MyDrive/Dogclassifier/test_images\",\n",
        "    target_size=(224, 224),\n",
        "    color_mode=\"rgb\",\n",
        "    batch_size=1,\n",
        "    class_mode=None,\n",
        "    shuffle=False,\n",
        "    seed=69)"
      ],
      "execution_count": 20,
      "outputs": [
        {
          "output_type": "stream",
          "text": [
            "Found 10357 images belonging to 1 classes.\n"
          ],
          "name": "stdout"
        }
      ]
    },
    {
      "cell_type": "markdown",
      "metadata": {
        "id": "FQqQFKrJzO0h"
      },
      "source": [
        "#Predictions"
      ]
    },
    {
      "cell_type": "code",
      "metadata": {
        "colab": {
          "base_uri": "https://localhost:8080/"
        },
        "id": "f5zJ5mUl5C30",
        "outputId": "16dffe07-178b-43c9-b356-57d6260eba06"
      },
      "source": [
        "#probability prediction for test dataset\n",
        "probabilities = model2.predict_generator(test_generator)"
      ],
      "execution_count": 21,
      "outputs": [
        {
          "output_type": "stream",
          "text": [
            "/usr/local/lib/python3.7/dist-packages/tensorflow/python/keras/engine/training.py:2001: UserWarning: `Model.predict_generator` is deprecated and will be removed in a future version. Please use `Model.predict`, which supports generators.\n",
            "  warnings.warn('`Model.predict_generator` is deprecated and '\n"
          ],
          "name": "stderr"
        }
      ]
    },
    {
      "cell_type": "code",
      "metadata": {
        "id": "koK1B5utc3m-"
      },
      "source": [
        "folder = '/content/drive/MyDrive/Dogclassifier/test_images/test'\n",
        "test_labels = list()\n",
        "for file in listdir(folder):\n",
        "        test_labels.append(str(file[:-4]))\n",
        "\n",
        "columns=['id']\n",
        "columns.extend(list(train_generator.class_indices.keys()))"
      ],
      "execution_count": 22,
      "outputs": []
    },
    {
      "cell_type": "code",
      "metadata": {
        "id": "5nxaRlBqgxUh"
      },
      "source": [
        "data = []\n",
        "for i in range(0,len(probabilities)):\n",
        "  data.append([test_labels[i],*probabilities[i]])\n",
        "df = pd.DataFrame(data)\n",
        "df.columns = columns"
      ],
      "execution_count": 23,
      "outputs": []
    },
    {
      "cell_type": "code",
      "metadata": {
        "id": "s1ZefzIyiWLw"
      },
      "source": [
        "# csv file for submission\n",
        "df.to_csv('/content/drive/Dogclassifier/submissions.csv',index =False)"
      ],
      "execution_count": 24,
      "outputs": []
    },
    {
      "cell_type": "code",
      "metadata": {
        "colab": {
          "base_uri": "https://localhost:8080/"
        },
        "id": "QyDBa9DraMyp",
        "outputId": "59356dde-ba82-42b9-ead1-724e06aeda99"
      },
      "source": [
        "#predict from url of image\n",
        "url = 'https://www.dogtime.com/assets/uploads/2011/01/file_23138_boston-terrier-460x290.jpg'\n",
        "breed_list = list(train_generator.class_indices.keys())\n",
        "\n",
        "im = Image.open(requests.get(url, stream=True).raw)\n",
        "img_batch = np.expand_dims(im, axis=0)\n",
        "img_preprocessed = preprocess_input(img_batch)\n",
        "prediction = model2.predict(preprocess_input(img_preprocessed))\n",
        "pred = (-prediction).argsort()[0][0:5]\n",
        "print(\"Most Likely Breeds: \")\n",
        "for i in pred:\n",
        "  print(breed_list[i])"
      ],
      "execution_count": 25,
      "outputs": [
        {
          "output_type": "stream",
          "text": [
            "Most Likely Breeds: \n",
            "boston_bull\n",
            "italian_greyhound\n",
            "toy_poodle\n",
            "french_bulldog\n",
            "pug\n"
          ],
          "name": "stdout"
        }
      ]
    }
  ]
}